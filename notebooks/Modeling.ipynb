{
 "cells": [
  {
   "cell_type": "markdown",
   "metadata": {},
   "source": [
    "# Wine Quality"
   ]
  },
  {
   "cell_type": "markdown",
   "metadata": {},
   "source": [
    "Importing the libraries"
   ]
  },
  {
   "cell_type": "code",
   "execution_count": 135,
   "metadata": {},
   "outputs": [],
   "source": [
    "#Importando as bibliotecas\n",
    "\n",
    "# Data Analysis Tools\n",
    "import pandas as pd\n",
    "import numpy as np\n",
    "\n",
    "#Plotting\n",
    "import itertools\n",
    "import numpy as np\n",
    "import matplotlib.pyplot as plt\n",
    "\n",
    "# Machine Learning Tools\n",
    "import sklearn\n",
    "from xgboost import XGBClassifier\n",
    "from sklearn.tree import DecisionTreeClassifier\n",
    "from sklearn.naive_bayes import GaussianNB\n",
    "from sklearn.ensemble import RandomForestClassifier\n",
    "from sklearn.svm import SVC\n",
    "from sklearn.linear_model import LogisticRegression\n",
    "from sklearn.neighbors import KNeighborsClassifier\n",
    "\n",
    "from sklearn.metrics import make_scorer, confusion_matrix, accuracy_score,roc_curve, roc_auc_score, recall_score, precision_score, f1_score\n",
    "from sklearn.model_selection import train_test_split\n",
    "\n",
    "from sklearn.grid_search import GridSearchCV\n",
    "from sklearn.cross_validation import ShuffleSplit\n",
    "\n",
    "#Others\n",
    "import warnings\n",
    "warnings.filterwarnings(\"ignore\")\n"
   ]
  },
  {
   "cell_type": "markdown",
   "metadata": {},
   "source": [
    "# Importing the data"
   ]
  },
  {
   "cell_type": "markdown",
   "metadata": {},
   "source": [
    "Importing the dataset created in the \"Wine_Quality - Data Analysis\"\n",
    "\n",
    "To create the model, it'll be used the clustered dataset with PCA analysis and some other features to help the model to perform better."
   ]
  },
  {
   "cell_type": "code",
   "execution_count": 136,
   "metadata": {},
   "outputs": [],
   "source": [
    "data = pd.read_csv('data_test.csv', sep=',')"
   ]
  },
  {
   "cell_type": "code",
   "execution_count": 137,
   "metadata": {},
   "outputs": [],
   "source": [
    "data = data.drop(['Unnamed: 0'], axis = 1)\n"
   ]
  },
  {
   "cell_type": "code",
   "execution_count": 138,
   "metadata": {},
   "outputs": [
    {
     "data": {
      "text/html": [
       "<div>\n",
       "<style scoped>\n",
       "    .dataframe tbody tr th:only-of-type {\n",
       "        vertical-align: middle;\n",
       "    }\n",
       "\n",
       "    .dataframe tbody tr th {\n",
       "        vertical-align: top;\n",
       "    }\n",
       "\n",
       "    .dataframe thead th {\n",
       "        text-align: right;\n",
       "    }\n",
       "</style>\n",
       "<table border=\"1\" class=\"dataframe\">\n",
       "  <thead>\n",
       "    <tr style=\"text-align: right;\">\n",
       "      <th></th>\n",
       "      <th>fixed acidity</th>\n",
       "      <th>volatile acidity</th>\n",
       "      <th>citric acid</th>\n",
       "      <th>residual sugar</th>\n",
       "      <th>chlorides</th>\n",
       "      <th>free sulfur dioxide</th>\n",
       "      <th>total sulfur dioxide</th>\n",
       "      <th>density</th>\n",
       "      <th>pH</th>\n",
       "      <th>sulphates</th>\n",
       "      <th>alcohol</th>\n",
       "      <th>quality</th>\n",
       "      <th>Red</th>\n",
       "      <th>White</th>\n",
       "      <th>group_quality</th>\n",
       "      <th>Clusters PCA</th>\n",
       "    </tr>\n",
       "  </thead>\n",
       "  <tbody>\n",
       "    <tr>\n",
       "      <th>0</th>\n",
       "      <td>7.0</td>\n",
       "      <td>0.27</td>\n",
       "      <td>0.36</td>\n",
       "      <td>20.7</td>\n",
       "      <td>0.045</td>\n",
       "      <td>45.0</td>\n",
       "      <td>170.0</td>\n",
       "      <td>1.0010</td>\n",
       "      <td>3.00</td>\n",
       "      <td>0.45</td>\n",
       "      <td>8.8</td>\n",
       "      <td>6</td>\n",
       "      <td>0</td>\n",
       "      <td>1</td>\n",
       "      <td>2</td>\n",
       "      <td>0</td>\n",
       "    </tr>\n",
       "    <tr>\n",
       "      <th>1</th>\n",
       "      <td>6.3</td>\n",
       "      <td>0.30</td>\n",
       "      <td>0.34</td>\n",
       "      <td>1.6</td>\n",
       "      <td>0.049</td>\n",
       "      <td>14.0</td>\n",
       "      <td>132.0</td>\n",
       "      <td>0.9940</td>\n",
       "      <td>3.30</td>\n",
       "      <td>0.49</td>\n",
       "      <td>9.5</td>\n",
       "      <td>6</td>\n",
       "      <td>0</td>\n",
       "      <td>1</td>\n",
       "      <td>2</td>\n",
       "      <td>0</td>\n",
       "    </tr>\n",
       "    <tr>\n",
       "      <th>2</th>\n",
       "      <td>8.1</td>\n",
       "      <td>0.28</td>\n",
       "      <td>0.40</td>\n",
       "      <td>6.9</td>\n",
       "      <td>0.050</td>\n",
       "      <td>30.0</td>\n",
       "      <td>97.0</td>\n",
       "      <td>0.9951</td>\n",
       "      <td>3.26</td>\n",
       "      <td>0.44</td>\n",
       "      <td>10.1</td>\n",
       "      <td>6</td>\n",
       "      <td>0</td>\n",
       "      <td>1</td>\n",
       "      <td>2</td>\n",
       "      <td>1</td>\n",
       "    </tr>\n",
       "    <tr>\n",
       "      <th>3</th>\n",
       "      <td>7.2</td>\n",
       "      <td>0.23</td>\n",
       "      <td>0.32</td>\n",
       "      <td>8.5</td>\n",
       "      <td>0.058</td>\n",
       "      <td>47.0</td>\n",
       "      <td>186.0</td>\n",
       "      <td>0.9956</td>\n",
       "      <td>3.19</td>\n",
       "      <td>0.40</td>\n",
       "      <td>9.9</td>\n",
       "      <td>6</td>\n",
       "      <td>0</td>\n",
       "      <td>1</td>\n",
       "      <td>2</td>\n",
       "      <td>0</td>\n",
       "    </tr>\n",
       "    <tr>\n",
       "      <th>4</th>\n",
       "      <td>7.2</td>\n",
       "      <td>0.23</td>\n",
       "      <td>0.32</td>\n",
       "      <td>8.5</td>\n",
       "      <td>0.058</td>\n",
       "      <td>47.0</td>\n",
       "      <td>186.0</td>\n",
       "      <td>0.9956</td>\n",
       "      <td>3.19</td>\n",
       "      <td>0.40</td>\n",
       "      <td>9.9</td>\n",
       "      <td>6</td>\n",
       "      <td>0</td>\n",
       "      <td>1</td>\n",
       "      <td>2</td>\n",
       "      <td>0</td>\n",
       "    </tr>\n",
       "  </tbody>\n",
       "</table>\n",
       "</div>"
      ],
      "text/plain": [
       "   fixed acidity  volatile acidity  citric acid  residual sugar  chlorides  \\\n",
       "0            7.0              0.27         0.36            20.7      0.045   \n",
       "1            6.3              0.30         0.34             1.6      0.049   \n",
       "2            8.1              0.28         0.40             6.9      0.050   \n",
       "3            7.2              0.23         0.32             8.5      0.058   \n",
       "4            7.2              0.23         0.32             8.5      0.058   \n",
       "\n",
       "   free sulfur dioxide  total sulfur dioxide  density    pH  sulphates  \\\n",
       "0                 45.0                 170.0   1.0010  3.00       0.45   \n",
       "1                 14.0                 132.0   0.9940  3.30       0.49   \n",
       "2                 30.0                  97.0   0.9951  3.26       0.44   \n",
       "3                 47.0                 186.0   0.9956  3.19       0.40   \n",
       "4                 47.0                 186.0   0.9956  3.19       0.40   \n",
       "\n",
       "   alcohol  quality  Red  White  group_quality  Clusters PCA  \n",
       "0      8.8        6    0      1              2             0  \n",
       "1      9.5        6    0      1              2             0  \n",
       "2     10.1        6    0      1              2             1  \n",
       "3      9.9        6    0      1              2             0  \n",
       "4      9.9        6    0      1              2             0  "
      ]
     },
     "execution_count": 138,
     "metadata": {},
     "output_type": "execute_result"
    }
   ],
   "source": [
    "data.head()"
   ]
  },
  {
   "cell_type": "code",
   "execution_count": 139,
   "metadata": {},
   "outputs": [
    {
     "data": {
      "text/plain": [
       "fixed acidity           float64\n",
       "volatile acidity        float64\n",
       "citric acid             float64\n",
       "residual sugar          float64\n",
       "chlorides               float64\n",
       "free sulfur dioxide     float64\n",
       "total sulfur dioxide    float64\n",
       "density                 float64\n",
       "pH                      float64\n",
       "sulphates               float64\n",
       "alcohol                 float64\n",
       "quality                   int64\n",
       "Red                       int64\n",
       "White                     int64\n",
       "group_quality             int64\n",
       "Clusters PCA              int64\n",
       "dtype: object"
      ]
     },
     "execution_count": 139,
     "metadata": {},
     "output_type": "execute_result"
    }
   ],
   "source": [
    "data.dtypes"
   ]
  },
  {
   "cell_type": "code",
   "execution_count": 140,
   "metadata": {},
   "outputs": [
    {
     "data": {
      "text/plain": [
       "True"
      ]
     },
     "execution_count": 140,
     "metadata": {},
     "output_type": "execute_result"
    }
   ],
   "source": [
    "np.all(np.isfinite(data))"
   ]
  },
  {
   "cell_type": "code",
   "execution_count": 141,
   "metadata": {},
   "outputs": [],
   "source": [
    "data = data.dropna(how='any',axis=0)"
   ]
  },
  {
   "cell_type": "code",
   "execution_count": 142,
   "metadata": {},
   "outputs": [],
   "source": [
    "data_red = data.loc[data['Red'] == 1].copy()\n",
    "data_white = data.loc[data['White'] == 1].copy()"
   ]
  },
  {
   "cell_type": "code",
   "execution_count": 143,
   "metadata": {},
   "outputs": [],
   "source": [
    "data_white = data_white.drop(['Red', 'White'],axis = 1)\n",
    "data_red = data_red.drop(['Red', 'White'],axis = 1)"
   ]
  },
  {
   "cell_type": "markdown",
   "metadata": {},
   "source": [
    "# Analysing a sort of Classification models"
   ]
  },
  {
   "cell_type": "markdown",
   "metadata": {},
   "source": [
    "Some ML models will be tested to achive best results"
   ]
  },
  {
   "cell_type": "markdown",
   "metadata": {},
   "source": [
    "### Classification"
   ]
  },
  {
   "cell_type": "code",
   "execution_count": 187,
   "metadata": {},
   "outputs": [],
   "source": [
    "def train_classifier_cl(clf, X_train, y_train):\n",
    "    \n",
    "    clf.fit(X_train, y_train)\n",
    "   \n",
    "    return \n",
    "\n",
    "def predict_labels_cl(clf, X, y):\n",
    "    \n",
    "    y_pred = clf.predict(X)   \n",
    "\n",
    "    return  {\"Precision\": precision_score(y.values, y_pred, average='macro'), \n",
    "             \"Accuracy Score\": accuracy_score(y.values, y_pred),\n",
    "             \"Recall\": recall_score(y.values, y_pred, average='macro')}\n",
    "\n",
    "def plot_confusion_matrix(cm, target_names, title='Confusion matrix',cmap=None,normalize=True):\n",
    "\n",
    "    accuracy = np.trace(cm) / float(np.sum(cm))\n",
    "    misclass = 1 - accuracy\n",
    "\n",
    "    if cmap is None:\n",
    "        cmap = plt.get_cmap('Blues')\n",
    "\n",
    "    plt.figure(figsize=(8, 6))\n",
    "    plt.imshow(cm, interpolation='nearest', cmap=cmap)\n",
    "    plt.title(title)\n",
    "    plt.colorbar()\n",
    "\n",
    "    if target_names is not None:\n",
    "        tick_marks = np.arange(len(target_names))\n",
    "        plt.xticks(tick_marks, target_names, rotation=45)\n",
    "        plt.yticks(tick_marks, target_names)\n",
    "\n",
    "    if normalize:\n",
    "        cm = cm.astype('float') / cm.sum(axis=1)[:, np.newaxis]\n",
    "\n",
    "\n",
    "    thresh = cm.max() / 1.5 if normalize else cm.max() / 2\n",
    "    for i, j in itertools.product(range(cm.shape[0]), range(cm.shape[1])):\n",
    "        if normalize:\n",
    "            plt.text(j, i, \"{:0.4f}\".format(cm[i, j]),\n",
    "                     horizontalalignment=\"center\",\n",
    "                     color=\"white\" if cm[i, j] > thresh else \"black\")\n",
    "        else:\n",
    "            plt.text(j, i, \"{:,}\".format(cm[i, j]),\n",
    "                     horizontalalignment=\"center\",\n",
    "                     color=\"white\" if cm[i, j] > thresh else \"black\")\n",
    "\n",
    "\n",
    "    plt.tight_layout()\n",
    "    plt.ylabel('True label')\n",
    "    plt.xlabel('Predicted label\\naccuracy={:0.4f}; misclass={:0.4f}'.format(accuracy, misclass))\n",
    "    plt.savefig('confusion_matrix.png', format='png', dpi=100)\n",
    "    plt.show()\n",
    "    \n",
    "def auc_curve(y_test, y_pred):\n",
    "    fpr, tpr, _ = roc_curve(y_test,  y_pred)\n",
    "    auc  = roc_auc_score(y_test, y_pred)\n",
    "    plt.plot(fpr,tpr,label=\"ROC Curve, auc=\"+str(auc))\n",
    "    plt.xlabel('False Positive Rate')\n",
    "    plt.ylabel('True Positive Rate')\n",
    "    plt.title('ROC curve')\n",
    "    plt.legend(loc=4)\n",
    "    plt.savefig('confusion_matrix.png', format='png', dpi=100)\n",
    "    plt.show()"
   ]
  },
  {
   "cell_type": "code",
   "execution_count": 204,
   "metadata": {},
   "outputs": [
    {
     "data": {
      "text/html": [
       "<div>\n",
       "<style scoped>\n",
       "    .dataframe tbody tr th:only-of-type {\n",
       "        vertical-align: middle;\n",
       "    }\n",
       "\n",
       "    .dataframe tbody tr th {\n",
       "        vertical-align: top;\n",
       "    }\n",
       "\n",
       "    .dataframe thead th {\n",
       "        text-align: right;\n",
       "    }\n",
       "</style>\n",
       "<table border=\"1\" class=\"dataframe\">\n",
       "  <thead>\n",
       "    <tr style=\"text-align: right;\">\n",
       "      <th></th>\n",
       "      <th>Model for White Wine</th>\n",
       "      <th>Precision (Training)</th>\n",
       "      <th>Accuracy Score (Training)</th>\n",
       "      <th>Recall (Training)</th>\n",
       "      <th>Precision (Test)</th>\n",
       "      <th>Accuracy Score (Test)</th>\n",
       "      <th>Recall (Test)</th>\n",
       "      <th>Training Set</th>\n",
       "      <th>Testing Set</th>\n",
       "    </tr>\n",
       "  </thead>\n",
       "  <tbody>\n",
       "    <tr>\n",
       "      <th>0</th>\n",
       "      <td>XGBClassifier</td>\n",
       "      <td>0.870611</td>\n",
       "      <td>0.689026</td>\n",
       "      <td>0.746337</td>\n",
       "      <td>0.726032</td>\n",
       "      <td>0.620761</td>\n",
       "      <td>0.634778</td>\n",
       "      <td>(3891, 13)</td>\n",
       "      <td>(973, 13)</td>\n",
       "    </tr>\n",
       "    <tr>\n",
       "      <th>1</th>\n",
       "      <td>LogisticRegression</td>\n",
       "      <td>0.519870</td>\n",
       "      <td>0.561809</td>\n",
       "      <td>0.358286</td>\n",
       "      <td>0.478961</td>\n",
       "      <td>0.586845</td>\n",
       "      <td>0.411973</td>\n",
       "      <td>(3891, 13)</td>\n",
       "      <td>(973, 13)</td>\n",
       "    </tr>\n",
       "    <tr>\n",
       "      <th>2</th>\n",
       "      <td>SVC</td>\n",
       "      <td>0.777663</td>\n",
       "      <td>0.802621</td>\n",
       "      <td>0.507582</td>\n",
       "      <td>0.449035</td>\n",
       "      <td>0.558068</td>\n",
       "      <td>0.299136</td>\n",
       "      <td>(3891, 13)</td>\n",
       "      <td>(973, 13)</td>\n",
       "    </tr>\n",
       "    <tr>\n",
       "      <th>3</th>\n",
       "      <td>DecisionTreeClassifier</td>\n",
       "      <td>1.000000</td>\n",
       "      <td>1.000000</td>\n",
       "      <td>1.000000</td>\n",
       "      <td>0.425345</td>\n",
       "      <td>0.606372</td>\n",
       "      <td>0.417374</td>\n",
       "      <td>(3891, 13)</td>\n",
       "      <td>(973, 13)</td>\n",
       "    </tr>\n",
       "    <tr>\n",
       "      <th>4</th>\n",
       "      <td>KNeighborsClassifier</td>\n",
       "      <td>0.552262</td>\n",
       "      <td>0.646877</td>\n",
       "      <td>0.374798</td>\n",
       "      <td>0.301815</td>\n",
       "      <td>0.459404</td>\n",
       "      <td>0.260629</td>\n",
       "      <td>(3891, 13)</td>\n",
       "      <td>(973, 13)</td>\n",
       "    </tr>\n",
       "    <tr>\n",
       "      <th>5</th>\n",
       "      <td>GaussianNB</td>\n",
       "      <td>0.617573</td>\n",
       "      <td>0.482652</td>\n",
       "      <td>0.603063</td>\n",
       "      <td>0.632883</td>\n",
       "      <td>0.508736</td>\n",
       "      <td>0.656236</td>\n",
       "      <td>(3891, 13)</td>\n",
       "      <td>(973, 13)</td>\n",
       "    </tr>\n",
       "  </tbody>\n",
       "</table>\n",
       "</div>"
      ],
      "text/plain": [
       "     Model for White Wine  Precision (Training)  Accuracy Score (Training)  \\\n",
       "0           XGBClassifier              0.870611                   0.689026   \n",
       "1      LogisticRegression              0.519870                   0.561809   \n",
       "2                     SVC              0.777663                   0.802621   \n",
       "3  DecisionTreeClassifier              1.000000                   1.000000   \n",
       "4    KNeighborsClassifier              0.552262                   0.646877   \n",
       "5              GaussianNB              0.617573                   0.482652   \n",
       "\n",
       "   Recall (Training)  Precision (Test)  Accuracy Score (Test)  Recall (Test)  \\\n",
       "0           0.746337          0.726032               0.620761       0.634778   \n",
       "1           0.358286          0.478961               0.586845       0.411973   \n",
       "2           0.507582          0.449035               0.558068       0.299136   \n",
       "3           1.000000          0.425345               0.606372       0.417374   \n",
       "4           0.374798          0.301815               0.459404       0.260629   \n",
       "5           0.603063          0.632883               0.508736       0.656236   \n",
       "\n",
       "  Training Set Testing Set  \n",
       "0   (3891, 13)   (973, 13)  \n",
       "1   (3891, 13)   (973, 13)  \n",
       "2   (3891, 13)   (973, 13)  \n",
       "3   (3891, 13)   (973, 13)  \n",
       "4   (3891, 13)   (973, 13)  \n",
       "5   (3891, 13)   (973, 13)  "
      ]
     },
     "execution_count": 204,
     "metadata": {},
     "output_type": "execute_result"
    }
   ],
   "source": [
    "# Classification Aproach\n",
    "\n",
    "seed = 13\n",
    "\n",
    "Classifier = [XGBClassifier(), LogisticRegression(), SVC(), DecisionTreeClassifier(), \n",
    "              KNeighborsClassifier(), GaussianNB()]\n",
    "\n",
    "resultados = { \n",
    "        'Model for White Wine': [],\n",
    "        'Training Set': [], \n",
    "        'Testing Set': [],\n",
    "        'Precision (Training)': [], \n",
    "        'Precision (Test)': [],\n",
    "        'Accuracy Score (Training)':[],\n",
    "        'Accuracy Score (Test)':[],\n",
    "        'Recall (Training)':[],\n",
    "        'Recall (Test)':[],\n",
    "            }\n",
    "\n",
    "data_clf = [train_test_split(data_white.drop(['quality'], axis = 1), data_white['quality'], train_size=0.8 , random_state = 1)]\n",
    "\n",
    "for clf in Classifier:\n",
    "    for split in data_clf:\n",
    "        \n",
    "        \n",
    "        X_train, X_test, y_train, y_test = split\n",
    "        \n",
    "        time_train_cl = train_classifier_cl(clf, X_train, y_train)\n",
    "        \n",
    "        time_predict_train_cl = predict_labels_cl(clf, X_train, y_train)\n",
    "        \n",
    "        time_predict_test_cl = predict_labels_cl(clf, X_test, y_test)\n",
    "        \n",
    "        resultados['Model for White Wine'].append(clf.__class__.__name__)\n",
    "        resultados['Training Set'].append(X_train.shape)\n",
    "        resultados['Testing Set'].append(X_test.shape)\n",
    "        resultados['Precision (Training)'].append(time_predict_train_cl[\"Precision\"])\n",
    "        resultados['Precision (Test)'].append(time_predict_test_cl[\"Precision\"])\n",
    "        resultados['Accuracy Score (Training)'].append(time_predict_train_cl[\"Accuracy Score\"])\n",
    "        resultados['Accuracy Score (Test)'].append(time_predict_test_cl[\"Accuracy Score\"])\n",
    "        resultados['Recall (Training)'].append(time_predict_train_cl[\"Recall\"])\n",
    "        resultados['Recall (Test)'].append(time_predict_test_cl[\"Recall\"])\n",
    "                \n",
    "                \n",
    "Results_White = pd.DataFrame(resultados)\n",
    "Results_White = Results_White[['Model for White Wine','Precision (Training)','Accuracy Score (Training)','Recall (Training)',\n",
    "                  'Precision (Test)','Accuracy Score (Test)','Recall (Test)','Training Set','Testing Set']]\n",
    "Results_White.head(10)\n"
   ]
  },
  {
   "cell_type": "code",
   "execution_count": 205,
   "metadata": {},
   "outputs": [
    {
     "data": {
      "text/html": [
       "<div>\n",
       "<style scoped>\n",
       "    .dataframe tbody tr th:only-of-type {\n",
       "        vertical-align: middle;\n",
       "    }\n",
       "\n",
       "    .dataframe tbody tr th {\n",
       "        vertical-align: top;\n",
       "    }\n",
       "\n",
       "    .dataframe thead th {\n",
       "        text-align: right;\n",
       "    }\n",
       "</style>\n",
       "<table border=\"1\" class=\"dataframe\">\n",
       "  <thead>\n",
       "    <tr style=\"text-align: right;\">\n",
       "      <th></th>\n",
       "      <th>Model for Red Wine</th>\n",
       "      <th>Precision (Training)</th>\n",
       "      <th>Accuracy Score (Training)</th>\n",
       "      <th>Recall (Training)</th>\n",
       "      <th>Precision (test)</th>\n",
       "      <th>Accuracy Score (test)</th>\n",
       "      <th>Recall (test)</th>\n",
       "      <th>Training Set</th>\n",
       "      <th>Testing Set</th>\n",
       "    </tr>\n",
       "  </thead>\n",
       "  <tbody>\n",
       "    <tr>\n",
       "      <th>0</th>\n",
       "      <td>XGBClassifier</td>\n",
       "      <td>0.918741</td>\n",
       "      <td>0.820251</td>\n",
       "      <td>0.809426</td>\n",
       "      <td>0.605677</td>\n",
       "      <td>0.686520</td>\n",
       "      <td>0.577520</td>\n",
       "      <td>(1274, 13)</td>\n",
       "      <td>(319, 13)</td>\n",
       "    </tr>\n",
       "    <tr>\n",
       "      <th>1</th>\n",
       "      <td>LogisticRegression</td>\n",
       "      <td>0.632669</td>\n",
       "      <td>0.598901</td>\n",
       "      <td>0.448074</td>\n",
       "      <td>0.499850</td>\n",
       "      <td>0.586207</td>\n",
       "      <td>0.422588</td>\n",
       "      <td>(1274, 13)</td>\n",
       "      <td>(319, 13)</td>\n",
       "    </tr>\n",
       "    <tr>\n",
       "      <th>2</th>\n",
       "      <td>SVC</td>\n",
       "      <td>0.552841</td>\n",
       "      <td>0.732339</td>\n",
       "      <td>0.350718</td>\n",
       "      <td>0.374910</td>\n",
       "      <td>0.583072</td>\n",
       "      <td>0.306665</td>\n",
       "      <td>(1274, 13)</td>\n",
       "      <td>(319, 13)</td>\n",
       "    </tr>\n",
       "    <tr>\n",
       "      <th>3</th>\n",
       "      <td>DecisionTreeClassifier</td>\n",
       "      <td>1.000000</td>\n",
       "      <td>1.000000</td>\n",
       "      <td>1.000000</td>\n",
       "      <td>0.613406</td>\n",
       "      <td>0.661442</td>\n",
       "      <td>0.615317</td>\n",
       "      <td>(1274, 13)</td>\n",
       "      <td>(319, 13)</td>\n",
       "    </tr>\n",
       "    <tr>\n",
       "      <th>4</th>\n",
       "      <td>KNeighborsClassifier</td>\n",
       "      <td>0.672606</td>\n",
       "      <td>0.662480</td>\n",
       "      <td>0.387217</td>\n",
       "      <td>0.313748</td>\n",
       "      <td>0.501567</td>\n",
       "      <td>0.273190</td>\n",
       "      <td>(1274, 13)</td>\n",
       "      <td>(319, 13)</td>\n",
       "    </tr>\n",
       "    <tr>\n",
       "      <th>5</th>\n",
       "      <td>GaussianNB</td>\n",
       "      <td>0.641730</td>\n",
       "      <td>0.533752</td>\n",
       "      <td>0.659428</td>\n",
       "      <td>0.543269</td>\n",
       "      <td>0.539185</td>\n",
       "      <td>0.526828</td>\n",
       "      <td>(1274, 13)</td>\n",
       "      <td>(319, 13)</td>\n",
       "    </tr>\n",
       "  </tbody>\n",
       "</table>\n",
       "</div>"
      ],
      "text/plain": [
       "       Model for Red Wine  Precision (Training)  Accuracy Score (Training)  \\\n",
       "0           XGBClassifier              0.918741                   0.820251   \n",
       "1      LogisticRegression              0.632669                   0.598901   \n",
       "2                     SVC              0.552841                   0.732339   \n",
       "3  DecisionTreeClassifier              1.000000                   1.000000   \n",
       "4    KNeighborsClassifier              0.672606                   0.662480   \n",
       "5              GaussianNB              0.641730                   0.533752   \n",
       "\n",
       "   Recall (Training)  Precision (test)  Accuracy Score (test)  Recall (test)  \\\n",
       "0           0.809426          0.605677               0.686520       0.577520   \n",
       "1           0.448074          0.499850               0.586207       0.422588   \n",
       "2           0.350718          0.374910               0.583072       0.306665   \n",
       "3           1.000000          0.613406               0.661442       0.615317   \n",
       "4           0.387217          0.313748               0.501567       0.273190   \n",
       "5           0.659428          0.543269               0.539185       0.526828   \n",
       "\n",
       "  Training Set Testing Set  \n",
       "0   (1274, 13)   (319, 13)  \n",
       "1   (1274, 13)   (319, 13)  \n",
       "2   (1274, 13)   (319, 13)  \n",
       "3   (1274, 13)   (319, 13)  \n",
       "4   (1274, 13)   (319, 13)  \n",
       "5   (1274, 13)   (319, 13)  "
      ]
     },
     "execution_count": 205,
     "metadata": {},
     "output_type": "execute_result"
    }
   ],
   "source": [
    "# Classification Aproach\n",
    "\n",
    "seed = 26\n",
    "\n",
    "Classifier = [XGBClassifier(), LogisticRegression(), SVC(), DecisionTreeClassifier(), \n",
    "              KNeighborsClassifier(), GaussianNB()]\n",
    "\n",
    "resultados = { \n",
    "        'Model for Red Wine': [],\n",
    "        'Training Set': [], \n",
    "        'Testing Set': [],\n",
    "        'Precision (Training)': [], \n",
    "        'Precision (test)': [],\n",
    "        'Accuracy Score (Training)':[],\n",
    "        'Accuracy Score (test)':[],\n",
    "        'Recall (Training)':[],\n",
    "        'Recall (test)':[]\n",
    "            }\n",
    "\n",
    "data_clf = [train_test_split(data_red.drop(['quality'], axis = 1), \n",
    "                             data_red['quality'], train_size=0.8 , random_state = 1)]\n",
    "\n",
    "for clf in Classifier:\n",
    "    for split in data_clf:\n",
    "        \n",
    "        \n",
    "        X_train, X_test, y_train, y_test = split\n",
    "        \n",
    "        time_train_cl = train_classifier_cl(clf, X_train, y_train)\n",
    "        \n",
    "        time_predict_train_cl = predict_labels_cl(clf, X_train, y_train)\n",
    "        \n",
    "        time_predict_test_cl = predict_labels_cl(clf, X_test, y_test)\n",
    "        \n",
    "        resultados['Model for Red Wine'].append(clf.__class__.__name__)\n",
    "        resultados['Training Set'].append(X_train.shape)\n",
    "        resultados['Testing Set'].append(X_test.shape)\n",
    "        resultados['Precision (Training)'].append(time_predict_train_cl[\"Precision\"])\n",
    "        resultados['Precision (test)'].append(time_predict_test_cl[\"Precision\"])\n",
    "        resultados['Accuracy Score (Training)'].append(time_predict_train_cl[\"Accuracy Score\"])\n",
    "        resultados['Accuracy Score (test)'].append(time_predict_test_cl[\"Accuracy Score\"])\n",
    "        resultados['Recall (Training)'].append(time_predict_train_cl[\"Recall\"])\n",
    "        resultados['Recall (test)'].append(time_predict_test_cl[\"Recall\"])\n",
    "                \n",
    "                \n",
    "Results_red = pd.DataFrame(resultados)\n",
    "Results_red = Results_red[['Model for Red Wine','Precision (Training)','Accuracy Score (Training)','Recall (Training)',\n",
    "                  'Precision (test)','Accuracy Score (test)','Recall (test)','Training Set','Testing Set']]\n",
    "Results_red.head(10)\n"
   ]
  },
  {
   "cell_type": "code",
   "execution_count": 183,
   "metadata": {},
   "outputs": [
    {
     "data": {
      "text/html": [
       "<div>\n",
       "<style scoped>\n",
       "    .dataframe tbody tr th:only-of-type {\n",
       "        vertical-align: middle;\n",
       "    }\n",
       "\n",
       "    .dataframe tbody tr th {\n",
       "        vertical-align: top;\n",
       "    }\n",
       "\n",
       "    .dataframe thead th {\n",
       "        text-align: right;\n",
       "    }\n",
       "</style>\n",
       "<table border=\"1\" class=\"dataframe\">\n",
       "  <thead>\n",
       "    <tr style=\"text-align: right;\">\n",
       "      <th></th>\n",
       "      <th>Model for Both Wine Types</th>\n",
       "      <th>Precision (Training)</th>\n",
       "      <th>Accuracy Score (Training)</th>\n",
       "      <th>Recall (Training)</th>\n",
       "      <th>Precision (test)</th>\n",
       "      <th>Accuracy Score (test)</th>\n",
       "      <th>Recall (test)</th>\n",
       "      <th>Training Set</th>\n",
       "      <th>Testing Set</th>\n",
       "    </tr>\n",
       "  </thead>\n",
       "  <tbody>\n",
       "    <tr>\n",
       "      <th>0</th>\n",
       "      <td>XGBClassifier</td>\n",
       "      <td>0.858103</td>\n",
       "      <td>0.662730</td>\n",
       "      <td>0.704499</td>\n",
       "      <td>0.636081</td>\n",
       "      <td>0.614551</td>\n",
       "      <td>0.526602</td>\n",
       "      <td>(5165, 15)</td>\n",
       "      <td>(1292, 15)</td>\n",
       "    </tr>\n",
       "    <tr>\n",
       "      <th>1</th>\n",
       "      <td>LogisticRegression</td>\n",
       "      <td>0.662984</td>\n",
       "      <td>0.566699</td>\n",
       "      <td>0.371123</td>\n",
       "      <td>0.391837</td>\n",
       "      <td>0.571981</td>\n",
       "      <td>0.351260</td>\n",
       "      <td>(5165, 15)</td>\n",
       "      <td>(1292, 15)</td>\n",
       "    </tr>\n",
       "    <tr>\n",
       "      <th>2</th>\n",
       "      <td>SVC</td>\n",
       "      <td>0.758254</td>\n",
       "      <td>0.755470</td>\n",
       "      <td>0.430150</td>\n",
       "      <td>0.539910</td>\n",
       "      <td>0.561920</td>\n",
       "      <td>0.257796</td>\n",
       "      <td>(5165, 15)</td>\n",
       "      <td>(1292, 15)</td>\n",
       "    </tr>\n",
       "    <tr>\n",
       "      <th>3</th>\n",
       "      <td>DecisionTreeClassifier</td>\n",
       "      <td>1.000000</td>\n",
       "      <td>1.000000</td>\n",
       "      <td>1.000000</td>\n",
       "      <td>0.595025</td>\n",
       "      <td>0.655573</td>\n",
       "      <td>0.535367</td>\n",
       "      <td>(5165, 15)</td>\n",
       "      <td>(1292, 15)</td>\n",
       "    </tr>\n",
       "    <tr>\n",
       "      <th>4</th>\n",
       "      <td>KNeighborsClassifier</td>\n",
       "      <td>0.524822</td>\n",
       "      <td>0.638529</td>\n",
       "      <td>0.355194</td>\n",
       "      <td>0.280395</td>\n",
       "      <td>0.499226</td>\n",
       "      <td>0.229848</td>\n",
       "      <td>(5165, 15)</td>\n",
       "      <td>(1292, 15)</td>\n",
       "    </tr>\n",
       "    <tr>\n",
       "      <th>5</th>\n",
       "      <td>GaussianNB</td>\n",
       "      <td>0.512314</td>\n",
       "      <td>0.468151</td>\n",
       "      <td>0.596950</td>\n",
       "      <td>0.513026</td>\n",
       "      <td>0.487616</td>\n",
       "      <td>0.486432</td>\n",
       "      <td>(5165, 15)</td>\n",
       "      <td>(1292, 15)</td>\n",
       "    </tr>\n",
       "  </tbody>\n",
       "</table>\n",
       "</div>"
      ],
      "text/plain": [
       "  Model for Both Wine Types  Precision (Training)  Accuracy Score (Training)  \\\n",
       "0             XGBClassifier              0.858103                   0.662730   \n",
       "1        LogisticRegression              0.662984                   0.566699   \n",
       "2                       SVC              0.758254                   0.755470   \n",
       "3    DecisionTreeClassifier              1.000000                   1.000000   \n",
       "4      KNeighborsClassifier              0.524822                   0.638529   \n",
       "5                GaussianNB              0.512314                   0.468151   \n",
       "\n",
       "   Recall (Training)  Precision (test)  Accuracy Score (test)  Recall (test)  \\\n",
       "0           0.704499          0.636081               0.614551       0.526602   \n",
       "1           0.371123          0.391837               0.571981       0.351260   \n",
       "2           0.430150          0.539910               0.561920       0.257796   \n",
       "3           1.000000          0.595025               0.655573       0.535367   \n",
       "4           0.355194          0.280395               0.499226       0.229848   \n",
       "5           0.596950          0.513026               0.487616       0.486432   \n",
       "\n",
       "  Training Set Testing Set  \n",
       "0   (5165, 15)  (1292, 15)  \n",
       "1   (5165, 15)  (1292, 15)  \n",
       "2   (5165, 15)  (1292, 15)  \n",
       "3   (5165, 15)  (1292, 15)  \n",
       "4   (5165, 15)  (1292, 15)  \n",
       "5   (5165, 15)  (1292, 15)  "
      ]
     },
     "execution_count": 183,
     "metadata": {},
     "output_type": "execute_result"
    }
   ],
   "source": [
    "# Classification Aproach\n",
    "\n",
    "seed = 26\n",
    "\n",
    "Classifier = [XGBClassifier(), LogisticRegression(), SVC(), DecisionTreeClassifier(), \n",
    "              KNeighborsClassifier(), GaussianNB()]\n",
    "\n",
    "resultados = { \n",
    "        'Model for Both Wine Types': [],\n",
    "        'Training Set': [], \n",
    "        'Testing Set': [],\n",
    "        'Precision (Training)': [], \n",
    "        'Precision (test)': [],\n",
    "        'Accuracy Score (Training)':[],\n",
    "        'Accuracy Score (test)':[],\n",
    "        'Recall (Training)':[],\n",
    "        'Recall (test)':[]\n",
    "            }\n",
    "\n",
    "data_clf = [train_test_split(data.drop(['quality'], axis = 1), \n",
    "                             data['quality'], train_size=0.8 , random_state = 1)]\n",
    "\n",
    "for clf in Classifier:\n",
    "    for split in data_clf:\n",
    "        \n",
    "        \n",
    "        X_train, X_test, y_train, y_test = split\n",
    "        \n",
    "        time_train_cl = train_classifier_cl(clf, X_train, y_train)\n",
    "        \n",
    "        time_predict_train_cl = predict_labels_cl(clf, X_train, y_train)\n",
    "        \n",
    "        time_predict_test_cl = predict_labels_cl(clf, X_test, y_test)\n",
    "        \n",
    "        resultados['Model for Both Wine Types'].append(clf.__class__.__name__)\n",
    "        resultados['Training Set'].append(X_train.shape)\n",
    "        resultados['Testing Set'].append(X_test.shape)\n",
    "        resultados['Precision (Training)'].append(time_predict_train_cl[\"Precision\"])\n",
    "        resultados['Precision (test)'].append(time_predict_test_cl[\"Precision\"])\n",
    "        resultados['Accuracy Score (Training)'].append(time_predict_train_cl[\"Accuracy Score\"])\n",
    "        resultados['Accuracy Score (test)'].append(time_predict_test_cl[\"Accuracy Score\"])\n",
    "        resultados['Recall (Training)'].append(time_predict_train_cl[\"Recall\"])\n",
    "        resultados['Recall (test)'].append(time_predict_test_cl[\"Recall\"])\n",
    "                \n",
    "                \n",
    "Results_data = pd.DataFrame(resultados)\n",
    "Results_data = Results_data[['Model for Both Wine Types','Precision (Training)','Accuracy Score (Training)','Recall (Training)',\n",
    "                  'Precision (test)','Accuracy Score (test)','Recall (test)','Training Set','Testing Set']]\n",
    "Results_data.head(10)\n"
   ]
  },
  {
   "cell_type": "markdown",
   "metadata": {},
   "source": [
    "For the white and red wine models there should be an overfitting in the data. It can be seen a very high training score while a medium test score."
   ]
  },
  {
   "cell_type": "code",
   "execution_count": 206,
   "metadata": {},
   "outputs": [
    {
     "data": {
      "text/html": [
       "<div>\n",
       "<style scoped>\n",
       "    .dataframe tbody tr th:only-of-type {\n",
       "        vertical-align: middle;\n",
       "    }\n",
       "\n",
       "    .dataframe tbody tr th {\n",
       "        vertical-align: top;\n",
       "    }\n",
       "\n",
       "    .dataframe thead th {\n",
       "        text-align: right;\n",
       "    }\n",
       "</style>\n",
       "<table border=\"1\" class=\"dataframe\">\n",
       "  <thead>\n",
       "    <tr style=\"text-align: right;\">\n",
       "      <th></th>\n",
       "      <th>Model for White Wine</th>\n",
       "      <th>Precision (Training)</th>\n",
       "      <th>Accuracy Score (Training)</th>\n",
       "      <th>Recall (Training)</th>\n",
       "      <th>Precision (Test)</th>\n",
       "      <th>Accuracy Score (Test)</th>\n",
       "      <th>Recall (Test)</th>\n",
       "      <th>Training Set</th>\n",
       "      <th>Testing Set</th>\n",
       "    </tr>\n",
       "  </thead>\n",
       "  <tbody>\n",
       "    <tr>\n",
       "      <th>0</th>\n",
       "      <td>XGBClassifier</td>\n",
       "      <td>0.870611</td>\n",
       "      <td>0.689026</td>\n",
       "      <td>0.746337</td>\n",
       "      <td>0.726032</td>\n",
       "      <td>0.620761</td>\n",
       "      <td>0.634778</td>\n",
       "      <td>(3891, 13)</td>\n",
       "      <td>(973, 13)</td>\n",
       "    </tr>\n",
       "    <tr>\n",
       "      <th>5</th>\n",
       "      <td>GaussianNB</td>\n",
       "      <td>0.617573</td>\n",
       "      <td>0.482652</td>\n",
       "      <td>0.603063</td>\n",
       "      <td>0.632883</td>\n",
       "      <td>0.508736</td>\n",
       "      <td>0.656236</td>\n",
       "      <td>(3891, 13)</td>\n",
       "      <td>(973, 13)</td>\n",
       "    </tr>\n",
       "  </tbody>\n",
       "</table>\n",
       "</div>"
      ],
      "text/plain": [
       "  Model for White Wine  Precision (Training)  Accuracy Score (Training)  \\\n",
       "0        XGBClassifier              0.870611                   0.689026   \n",
       "5           GaussianNB              0.617573                   0.482652   \n",
       "\n",
       "   Recall (Training)  Precision (Test)  Accuracy Score (Test)  Recall (Test)  \\\n",
       "0           0.746337          0.726032               0.620761       0.634778   \n",
       "5           0.603063          0.632883               0.508736       0.656236   \n",
       "\n",
       "  Training Set Testing Set  \n",
       "0   (3891, 13)   (973, 13)  \n",
       "5   (3891, 13)   (973, 13)  "
      ]
     },
     "execution_count": 206,
     "metadata": {},
     "output_type": "execute_result"
    }
   ],
   "source": [
    "Results_White.loc[(Results_White['Precision (Test)'] > 0.60)]"
   ]
  },
  {
   "cell_type": "code",
   "execution_count": 207,
   "metadata": {},
   "outputs": [
    {
     "data": {
      "text/html": [
       "<div>\n",
       "<style scoped>\n",
       "    .dataframe tbody tr th:only-of-type {\n",
       "        vertical-align: middle;\n",
       "    }\n",
       "\n",
       "    .dataframe tbody tr th {\n",
       "        vertical-align: top;\n",
       "    }\n",
       "\n",
       "    .dataframe thead th {\n",
       "        text-align: right;\n",
       "    }\n",
       "</style>\n",
       "<table border=\"1\" class=\"dataframe\">\n",
       "  <thead>\n",
       "    <tr style=\"text-align: right;\">\n",
       "      <th></th>\n",
       "      <th>Model for Red Wine</th>\n",
       "      <th>Precision (Training)</th>\n",
       "      <th>Accuracy Score (Training)</th>\n",
       "      <th>Recall (Training)</th>\n",
       "      <th>Precision (test)</th>\n",
       "      <th>Accuracy Score (test)</th>\n",
       "      <th>Recall (test)</th>\n",
       "      <th>Training Set</th>\n",
       "      <th>Testing Set</th>\n",
       "    </tr>\n",
       "  </thead>\n",
       "  <tbody>\n",
       "    <tr>\n",
       "      <th>0</th>\n",
       "      <td>XGBClassifier</td>\n",
       "      <td>0.918741</td>\n",
       "      <td>0.820251</td>\n",
       "      <td>0.809426</td>\n",
       "      <td>0.605677</td>\n",
       "      <td>0.686520</td>\n",
       "      <td>0.577520</td>\n",
       "      <td>(1274, 13)</td>\n",
       "      <td>(319, 13)</td>\n",
       "    </tr>\n",
       "    <tr>\n",
       "      <th>3</th>\n",
       "      <td>DecisionTreeClassifier</td>\n",
       "      <td>1.000000</td>\n",
       "      <td>1.000000</td>\n",
       "      <td>1.000000</td>\n",
       "      <td>0.613406</td>\n",
       "      <td>0.661442</td>\n",
       "      <td>0.615317</td>\n",
       "      <td>(1274, 13)</td>\n",
       "      <td>(319, 13)</td>\n",
       "    </tr>\n",
       "  </tbody>\n",
       "</table>\n",
       "</div>"
      ],
      "text/plain": [
       "       Model for Red Wine  Precision (Training)  Accuracy Score (Training)  \\\n",
       "0           XGBClassifier              0.918741                   0.820251   \n",
       "3  DecisionTreeClassifier              1.000000                   1.000000   \n",
       "\n",
       "   Recall (Training)  Precision (test)  Accuracy Score (test)  Recall (test)  \\\n",
       "0           0.809426          0.605677               0.686520       0.577520   \n",
       "3           1.000000          0.613406               0.661442       0.615317   \n",
       "\n",
       "  Training Set Testing Set  \n",
       "0   (1274, 13)   (319, 13)  \n",
       "3   (1274, 13)   (319, 13)  "
      ]
     },
     "execution_count": 207,
     "metadata": {},
     "output_type": "execute_result"
    }
   ],
   "source": [
    "Results_red.loc[(Results_red['Precision (test)'] > 0.60)]"
   ]
  },
  {
   "cell_type": "code",
   "execution_count": 208,
   "metadata": {},
   "outputs": [
    {
     "data": {
      "text/html": [
       "<div>\n",
       "<style scoped>\n",
       "    .dataframe tbody tr th:only-of-type {\n",
       "        vertical-align: middle;\n",
       "    }\n",
       "\n",
       "    .dataframe tbody tr th {\n",
       "        vertical-align: top;\n",
       "    }\n",
       "\n",
       "    .dataframe thead th {\n",
       "        text-align: right;\n",
       "    }\n",
       "</style>\n",
       "<table border=\"1\" class=\"dataframe\">\n",
       "  <thead>\n",
       "    <tr style=\"text-align: right;\">\n",
       "      <th></th>\n",
       "      <th>Model for Both Wine Types</th>\n",
       "      <th>Precision (Training)</th>\n",
       "      <th>Accuracy Score (Training)</th>\n",
       "      <th>Recall (Training)</th>\n",
       "      <th>Precision (test)</th>\n",
       "      <th>Accuracy Score (test)</th>\n",
       "      <th>Recall (test)</th>\n",
       "      <th>Training Set</th>\n",
       "      <th>Testing Set</th>\n",
       "    </tr>\n",
       "  </thead>\n",
       "  <tbody>\n",
       "    <tr>\n",
       "      <th>0</th>\n",
       "      <td>XGBClassifier</td>\n",
       "      <td>0.858103</td>\n",
       "      <td>0.66273</td>\n",
       "      <td>0.704499</td>\n",
       "      <td>0.636081</td>\n",
       "      <td>0.614551</td>\n",
       "      <td>0.526602</td>\n",
       "      <td>(5165, 15)</td>\n",
       "      <td>(1292, 15)</td>\n",
       "    </tr>\n",
       "    <tr>\n",
       "      <th>3</th>\n",
       "      <td>DecisionTreeClassifier</td>\n",
       "      <td>1.000000</td>\n",
       "      <td>1.00000</td>\n",
       "      <td>1.000000</td>\n",
       "      <td>0.595025</td>\n",
       "      <td>0.655573</td>\n",
       "      <td>0.535367</td>\n",
       "      <td>(5165, 15)</td>\n",
       "      <td>(1292, 15)</td>\n",
       "    </tr>\n",
       "  </tbody>\n",
       "</table>\n",
       "</div>"
      ],
      "text/plain": [
       "  Model for Both Wine Types  Precision (Training)  Accuracy Score (Training)  \\\n",
       "0             XGBClassifier              0.858103                    0.66273   \n",
       "3    DecisionTreeClassifier              1.000000                    1.00000   \n",
       "\n",
       "   Recall (Training)  Precision (test)  Accuracy Score (test)  Recall (test)  \\\n",
       "0           0.704499          0.636081               0.614551       0.526602   \n",
       "3           1.000000          0.595025               0.655573       0.535367   \n",
       "\n",
       "  Training Set Testing Set  \n",
       "0   (5165, 15)  (1292, 15)  \n",
       "3   (5165, 15)  (1292, 15)  "
      ]
     },
     "execution_count": 208,
     "metadata": {},
     "output_type": "execute_result"
    }
   ],
   "source": [
    "Results_data.loc[(Results_red['Precision (test)'] > 0.60)]"
   ]
  },
  {
   "cell_type": "markdown",
   "metadata": {},
   "source": [
    "First, it will be done a new model with XGBoost and evaluate the confusion matrix. As it's written before, false positives are worse than false negatives in our case given the user experience.\n",
    "\n",
    "Said that, it's important to measure how good the xgboost can be in a confusion matrix and understanding this behavior in a AUC curve."
   ]
  },
  {
   "cell_type": "code",
   "execution_count": 154,
   "metadata": {},
   "outputs": [],
   "source": [
    "model = XGBClassifier()"
   ]
  },
  {
   "cell_type": "markdown",
   "metadata": {},
   "source": [
    "#### Wine Classification XGBoost ####"
   ]
  },
  {
   "cell_type": "code",
   "execution_count": 189,
   "metadata": {},
   "outputs": [
    {
     "name": "stdout",
     "output_type": "stream",
     "text": [
      "Precision 0.6360813530981597 Accuracy Score 0.6145510835913313 Recall 0.5266016305212494\n"
     ]
    }
   ],
   "source": [
    "wine_clf = X_train, X_test, y_train, y_test = train_test_split(data.drop(['quality'], axis = 1),\n",
    "                                                              data['quality'], \n",
    "                                                              train_size=0.8 , \n",
    "                                                              random_state = 1)\n",
    "\n",
    "model.fit(X_train, y_train)\n",
    "y_pred = model.predict(X_test)\n",
    "\n",
    "\n",
    "print (\"Precision\", precision_score(y_test.values, model.predict(X_test), average='macro'), \n",
    "         \"Accuracy Score\", accuracy_score(y_test.values, model.predict(X_test)),\n",
    "         \"Recall\", recall_score(y_test.values, model.predict(X_test), average='macro'))\n"
   ]
  },
  {
   "cell_type": "code",
   "execution_count": 190,
   "metadata": {},
   "outputs": [
    {
     "data": {
      "image/png": "[encoded data removed]",
      "text/plain": [
       "<Figure size 576x432 with 2 Axes>"
      ]
     },
     "metadata": {},
     "output_type": "display_data"
    }
   ],
   "source": [
    "plot_confusion_matrix(cm           = confusion_matrix(y_test, y_pred), \n",
    "                      normalize    = False,\n",
    "                      target_names = ['Score 3', 'Score 4', 'Score 5', \n",
    "                                      'Score 6', 'Score 7', 'Score 8', 'Score 9'],\n",
    "                      title        = \"Confusion Matrix\")"
   ]
  },
  {
   "cell_type": "markdown",
   "metadata": {},
   "source": [
    "## White Wine"
   ]
  },
  {
   "cell_type": "code",
   "execution_count": 191,
   "metadata": {},
   "outputs": [
    {
     "name": "stdout",
     "output_type": "stream",
     "text": [
      "Precision 0.726032011526745 Accuracy Score 0.6207605344295992 Recall 0.634778064351562\n"
     ]
    }
   ],
   "source": [
    "white_wine_clf = X_train, X_test, y_train, y_test = train_test_split(data_white.drop(['quality'], axis = 1),\n",
    "                                                              data_white['quality'], \n",
    "                                                              train_size=0.8 , \n",
    "                                                              random_state = 1)\n",
    "\n",
    "model.fit(X_train, y_train)\n",
    "y_pred = model.predict(X_test)\n",
    "\n",
    "\n",
    "print (\"Precision\", precision_score(y_test.values, model.predict(X_test), average='macro'), \n",
    " \"Accuracy Score\", accuracy_score(y_test.values, model.predict(X_test)),\n",
    " \"Recall\", recall_score(y_test.values, model.predict(X_test), average='macro'))"
   ]
  },
  {
   "cell_type": "code",
   "execution_count": 192,
   "metadata": {},
   "outputs": [
    {
     "data": {
      "image/png": "[encoded data removed]",
      "text/plain": [
       "<Figure size 576x432 with 2 Axes>"
      ]
     },
     "metadata": {},
     "output_type": "display_data"
    }
   ],
   "source": [
    "plot_confusion_matrix(cm           = confusion_matrix(y_test, y_pred), \n",
    "                      normalize    = False,\n",
    "                      target_names = ['Score 3', 'Score 4', 'Score 5', \n",
    "                                      'Score 6', 'Score 7', 'Score 8'],\n",
    "                      title        = \"Confusion Matrix\")"
   ]
  },
  {
   "cell_type": "markdown",
   "metadata": {},
   "source": [
    "## Red Wine"
   ]
  },
  {
   "cell_type": "code",
   "execution_count": 193,
   "metadata": {},
   "outputs": [
    {
     "name": "stdout",
     "output_type": "stream",
     "text": [
      "Precision 0.6056769870244813 Accuracy Score 0.6865203761755486 Recall 0.5775204565030145\n"
     ]
    }
   ],
   "source": [
    "red_wine_clf = X_train, X_test, y_train, y_test = train_test_split(data_red.drop(['quality'], axis = 1),\n",
    "                                                              data_red['quality'], \n",
    "                                                              train_size=0.8 , \n",
    "                                                              random_state = 1)\n",
    "\n",
    "model.fit(X_train, y_train)\n",
    "y_pred = model.predict(X_test)\n",
    "\n",
    "\n",
    "print (\"Precision\", precision_score(y_test.values, model.predict(X_test), average='macro'), \n",
    " \"Accuracy Score\", accuracy_score(y_test.values, model.predict(X_test)),\n",
    " \"Recall\", recall_score(y_test.values, model.predict(X_test), average='macro'))"
   ]
  },
  {
   "cell_type": "code",
   "execution_count": 194,
   "metadata": {},
   "outputs": [
    {
     "data": {
      "image/png": "[encoded data removed]",
      "text/plain": [
       "<Figure size 576x432 with 2 Axes>"
      ]
     },
     "metadata": {},
     "output_type": "display_data"
    }
   ],
   "source": [
    "plot_confusion_matrix(cm           = confusion_matrix(y_test, y_pred), \n",
    "                      normalize    = False,\n",
    "                      target_names = ['Score 3', 'Score 4', 'Score 5', \n",
    "                                      'Score 6', 'Score 7'],\n",
    "                      title        = \"Confusion Matrix\")"
   ]
  },
  {
   "cell_type": "markdown",
   "metadata": {},
   "source": [
    "# Grid Search"
   ]
  },
  {
   "cell_type": "markdown",
   "metadata": {},
   "source": [
    "After selecting the best possible model based on accuracy, precision and recall, the Grid Search technique will be applied to achieve the best hyperparameters combination for the XGBoost classifier.\n",
    "\n",
    "The metric selected for this fit will be the **accuracy** since it measures how good the model is when predicting the quality of the wine."
   ]
  },
  {
   "cell_type": "code",
   "execution_count": 66,
   "metadata": {},
   "outputs": [],
   "source": [
    "def recall(y_true, y_predict):\n",
    "    \n",
    "    recall = recall_score(y_true, y_predict, average='macro')\n",
    "\n",
    "    return recall"
   ]
  },
  {
   "cell_type": "code",
   "execution_count": 67,
   "metadata": {},
   "outputs": [],
   "source": [
    "def precision(y_true, y_predict):\n",
    "    \n",
    "    precision = precision_score(y_true, y_predict, average='macro')\n",
    "\n",
    "    return precision"
   ]
  },
  {
   "cell_type": "code",
   "execution_count": 68,
   "metadata": {},
   "outputs": [],
   "source": [
    "def accuracy(y_true, y_predict):\n",
    "    \n",
    "    accuracy = accuracy_score(y_true, y_predict)\n",
    "\n",
    "    return accuracy"
   ]
  },
  {
   "cell_type": "code",
   "execution_count": 69,
   "metadata": {},
   "outputs": [],
   "source": [
    "def fit_model(X, y):\n",
    "\n",
    "    from xgboost import XGBClassifier as xgb\n",
    "    cv_sets = ShuffleSplit(X.shape[0], n_iter = 10, test_size = 0.2, random_state = 1)\n",
    "\n",
    "    estimator = xgb()\n",
    "   \n",
    "\n",
    "    Params = {'n_estimators':[100,150,200], \n",
    "          'learning_rate':[0.05,0.07,0.4],\n",
    "          'colsample_bytree':[0.5,0.7,1],\n",
    "          'max_depth':[5,7,10],\n",
    "          'subsample':[0.6,0.7,0.8],\n",
    "          'gamma': [0, 0.1, 0.3]\n",
    "         }\n",
    "#     scoring_fnc = {'Precision': make_scorer(precision), 'Accuracy': make_scorer(accuracy),\n",
    "#                   'recall': make_scorer(recall)}\n",
    "\n",
    "    scoring_fnc = make_scorer(accuracy)\n",
    "    \n",
    "\n",
    "    grid = GridSearchCV( estimator=estimator, param_grid=Params, scoring=scoring_fnc, cv=cv_sets)\n",
    "    #grid = GridSearchCV( estimator=regressor, param_grid=params, scoring=scoring_fnc, cv=cv_sets2)\n",
    "\n",
    "    grid = grid.fit(X, y)\n",
    "\n",
    "    return grid.best_estimator_"
   ]
  },
  {
   "cell_type": "markdown",
   "metadata": {},
   "source": [
    "Fitting the model with the best hyperparameters using the Grid Search.\n",
    "\n",
    "1. Red Wine Dataset\n",
    "2. White Wine Dataset\n",
    "3. Complete Wine Dataset"
   ]
  },
  {
   "cell_type": "markdown",
   "metadata": {},
   "source": [
    "**Red Wine Hyperparameters optimization**"
   ]
  },
  {
   "cell_type": "code",
   "execution_count": 155,
   "metadata": {},
   "outputs": [],
   "source": [
    "reg = fit_model(data_red.drop(['quality'], axis = 1), data_red['quality'])"
   ]
  },
  {
   "cell_type": "code",
   "execution_count": 156,
   "metadata": {},
   "outputs": [
    {
     "name": "stdout",
     "output_type": "stream",
     "text": [
      "O parâmetro 'n_estimators' é 100 para o modelo ótimo.\n",
      "O parâmetro 'learning_rate' é 0.07 para o modelo ótimo.\n",
      "O parâmetro 'colsample_bytree' é 0.7 para o modelo ótimo.\n",
      "O parâmetro 'max_depth' é 7 para o modelo ótimo.\n",
      "O parâmetro 'subsample' é 0.8 para o modelo ótimo.\n",
      "O parâmetro 'gamma' é 0 para o modelo ótimo.\n"
     ]
    }
   ],
   "source": [
    "print (\"O parâmetro 'n_estimators' é {} para o modelo ótimo.\".format(reg.get_params()['n_estimators']))\n",
    "print (\"O parâmetro 'learning_rate' é {} para o modelo ótimo.\".format(reg.get_params()['learning_rate']))\n",
    "print (\"O parâmetro 'colsample_bytree' é {} para o modelo ótimo.\".format(reg.get_params()['colsample_bytree']))\n",
    "print (\"O parâmetro 'max_depth' é {} para o modelo ótimo.\".format(reg.get_params()['max_depth']))\n",
    "print (\"O parâmetro 'subsample' é {} para o modelo ótimo.\".format(reg.get_params()['subsample']))\n",
    "print (\"O parâmetro 'gamma' é {} para o modelo ótimo.\".format(reg.get_params()['gamma']))"
   ]
  },
  {
   "cell_type": "markdown",
   "metadata": {},
   "source": [
    "**White Wine Hyperparameters optimization**"
   ]
  },
  {
   "cell_type": "code",
   "execution_count": 30,
   "metadata": {},
   "outputs": [],
   "source": [
    "reg = fit_model(data_white.drop(['quality'], axis = 1), data_white['quality'])"
   ]
  },
  {
   "cell_type": "code",
   "execution_count": 31,
   "metadata": {},
   "outputs": [
    {
     "name": "stdout",
     "output_type": "stream",
     "text": [
      "O parâmetro 'n_estimators' é 200 para o modelo ótimo.\n",
      "O parâmetro 'learning_rate' é 0.05 para o modelo ótimo.\n",
      "O parâmetro 'colsample_bytree' é 0.5 para o modelo ótimo.\n",
      "O parâmetro 'max_depth' é 10 para o modelo ótimo.\n",
      "O parâmetro 'subsample' é 0.8 para o modelo ótimo.\n",
      "O parâmetro 'gamma' é 0.1 para o modelo ótimo.\n"
     ]
    }
   ],
   "source": [
    "print (\"O parâmetro 'n_estimators' é {} para o modelo ótimo.\".format(reg.get_params()['n_estimators']))\n",
    "print (\"O parâmetro 'learning_rate' é {} para o modelo ótimo.\".format(reg.get_params()['learning_rate']))\n",
    "print (\"O parâmetro 'colsample_bytree' é {} para o modelo ótimo.\".format(reg.get_params()['colsample_bytree']))\n",
    "print (\"O parâmetro 'max_depth' é {} para o modelo ótimo.\".format(reg.get_params()['max_depth']))\n",
    "print (\"O parâmetro 'subsample' é {} para o modelo ótimo.\".format(reg.get_params()['subsample']))\n",
    "print (\"O parâmetro 'gamma' é {} para o modelo ótimo.\".format(reg.get_params()['gamma']))"
   ]
  },
  {
   "cell_type": "markdown",
   "metadata": {},
   "source": [
    "**Complete Wine Dataset Hyperparameters optimization**"
   ]
  },
  {
   "cell_type": "code",
   "execution_count": 32,
   "metadata": {},
   "outputs": [],
   "source": [
    "reg = fit_model(data.drop(['quality'], axis = 1), data['quality'])"
   ]
  },
  {
   "cell_type": "code",
   "execution_count": 33,
   "metadata": {},
   "outputs": [
    {
     "name": "stdout",
     "output_type": "stream",
     "text": [
      "O parâmetro 'n_estimators' é 200 para o modelo ótimo.\n",
      "O parâmetro 'learning_rate' é 0.05 para o modelo ótimo.\n",
      "O parâmetro 'colsample_bytree' é 0.7 para o modelo ótimo.\n",
      "O parâmetro 'max_depth' é 10 para o modelo ótimo.\n",
      "O parâmetro 'subsample' é 0.8 para o modelo ótimo.\n",
      "O parâmetro 'gamma' é 0 para o modelo ótimo.\n"
     ]
    }
   ],
   "source": [
    "print (\"O parâmetro 'n_estimators' é {} para o modelo ótimo.\".format(reg.get_params()['n_estimators']))\n",
    "print (\"O parâmetro 'learning_rate' é {} para o modelo ótimo.\".format(reg.get_params()['learning_rate']))\n",
    "print (\"O parâmetro 'colsample_bytree' é {} para o modelo ótimo.\".format(reg.get_params()['colsample_bytree']))\n",
    "print (\"O parâmetro 'max_depth' é {} para o modelo ótimo.\".format(reg.get_params()['max_depth']))\n",
    "print (\"O parâmetro 'subsample' é {} para o modelo ótimo.\".format(reg.get_params()['subsample']))\n",
    "print (\"O parâmetro 'gamma' é {} para o modelo ótimo.\".format(reg.get_params()['gamma']))"
   ]
  },
  {
   "cell_type": "markdown",
   "metadata": {},
   "source": [
    "## Tuning the model with hyperparameters"
   ]
  },
  {
   "cell_type": "markdown",
   "metadata": {},
   "source": [
    "Given the hyperparameters for the three datasets (Red wine, White wine and full dataset) once again the models will be trained and the scores (precision, accuracy and recall) will be evaluated.\n",
    "\n",
    "After this step, a confusion matrix will be evaluated and the results analysed. "
   ]
  },
  {
   "cell_type": "markdown",
   "metadata": {},
   "source": [
    "#### Final model - Red Wine"
   ]
  },
  {
   "cell_type": "code",
   "execution_count": 209,
   "metadata": {},
   "outputs": [],
   "source": [
    "red_wine_model = XGBClassifier(n_estimators=100, \n",
    "                      learning_rate=0.07, \n",
    "                      gamma=0, \n",
    "                      subsample=0.8,\n",
    "                      colsample_bytree=0.7, \n",
    "                      max_depth=7)\n",
    "\n",
    "seed = 1"
   ]
  },
  {
   "cell_type": "code",
   "execution_count": 210,
   "metadata": {},
   "outputs": [
    {
     "name": "stdout",
     "output_type": "stream",
     "text": [
      "Precision 0.6501940048691418 Accuracy Score 0.7398119122257053 Recall 0.6317999031007753\n"
     ]
    }
   ],
   "source": [
    "X_train, X_test, y_train, y_test = train_test_split(data_red.drop(['quality'], axis = 1),\n",
    "                                                              data_red['quality'], \n",
    "                                                              train_size=0.8 , \n",
    "                                                              random_state = 1)\n",
    "\n",
    "red_wine_model.fit(X_train, y_train)\n",
    "y_pred = red_wine_model.predict(X_test)\n",
    "\n",
    "print (\"Precision\", precision_score(y_test.values, y_pred, average='macro'), \n",
    "         \"Accuracy Score\", accuracy_score(y_test.values, y_pred),\n",
    "         \"Recall\", recall_score(y_test.values, y_pred, average='macro'))"
   ]
  },
  {
   "cell_type": "code",
   "execution_count": 211,
   "metadata": {},
   "outputs": [
    {
     "data": {
      "image/png": "[encoded data removed]",
      "text/plain": [
       "<Figure size 576x432 with 2 Axes>"
      ]
     },
     "metadata": {},
     "output_type": "display_data"
    }
   ],
   "source": [
    "plot_confusion_matrix(cm           = confusion_matrix(y_test, y_pred), \n",
    "                      normalize    = False,\n",
    "                      target_names = ['Score 3', 'Score 4', 'Score 5', \n",
    "                                      'Score 6', 'Score 7'],\n",
    "                      title        = \"Confusion Matrix\")"
   ]
  },
  {
   "cell_type": "markdown",
   "metadata": {},
   "source": [
    "#### Final model - White Wine"
   ]
  },
  {
   "cell_type": "code",
   "execution_count": 212,
   "metadata": {},
   "outputs": [],
   "source": [
    "white_wine_model = XGBClassifier(n_estimators=200, \n",
    "                      learning_rate=0.05, \n",
    "                      gamma=0.1, \n",
    "                      subsample=0.8,\n",
    "                      colsample_bytree=0.5, \n",
    "                      max_depth=10)\n",
    "seed = 2"
   ]
  },
  {
   "cell_type": "code",
   "execution_count": 213,
   "metadata": {},
   "outputs": [
    {
     "name": "stdout",
     "output_type": "stream",
     "text": [
      "Precision 0.8105996309359318 Accuracy Score 0.723535457348407 Recall 0.7009817683503531\n"
     ]
    }
   ],
   "source": [
    "X_train, X_test, y_train, y_test = train_test_split(data_white.drop(['quality'], axis = 1),\n",
    "                                                              data_white['quality'], \n",
    "                                                              train_size=0.8 , \n",
    "                                                              random_state = 1)\n",
    "\n",
    "white_wine_model.fit(X_train, y_train)\n",
    "y_pred = white_wine_model.predict(X_test)\n",
    "\n",
    "print (\"Precision\", precision_score(y_test.values, y_pred, average='macro'), \n",
    "         \"Accuracy Score\", accuracy_score(y_test.values, y_pred),\n",
    "         \"Recall\", recall_score(y_test.values, y_pred, average='macro'))"
   ]
  },
  {
   "cell_type": "code",
   "execution_count": 214,
   "metadata": {},
   "outputs": [
    {
     "data": {
      "image/png": "[encoded data removed]",
      "text/plain": [
       "<Figure size 576x432 with 2 Axes>"
      ]
     },
     "metadata": {},
     "output_type": "display_data"
    }
   ],
   "source": [
    "plot_confusion_matrix(cm           = confusion_matrix(y_test, y_pred), \n",
    "                      normalize    = False,\n",
    "                      target_names = ['Score 3', 'Score 4', 'Score 5', \n",
    "                                      'Score 6', 'Score 7'],\n",
    "                      title        = \"Confusion Matrix\")"
   ]
  },
  {
   "cell_type": "markdown",
   "metadata": {},
   "source": [
    "#### Final model - Complete dataset"
   ]
  },
  {
   "cell_type": "code",
   "execution_count": 219,
   "metadata": {},
   "outputs": [],
   "source": [
    "wine_model = XGBClassifier(n_estimators=200, \n",
    "                      learning_rate=0.05, \n",
    "                      gamma=0, \n",
    "                      subsample=0.8,\n",
    "                      colsample_bytree=0.7, \n",
    "                      max_depth=10)\n",
    "seed = 3"
   ]
  },
  {
   "cell_type": "code",
   "execution_count": 220,
   "metadata": {},
   "outputs": [
    {
     "name": "stdout",
     "output_type": "stream",
     "text": [
      "Precision 0.6948060119171313 Accuracy Score 0.7352941176470589 Recall 0.6197813406501317\n"
     ]
    }
   ],
   "source": [
    "X_train, X_test, y_train, y_test = train_test_split(data.drop(['quality'], axis = 1),\n",
    "                                                              data['quality'], \n",
    "                                                              train_size=0.8 , \n",
    "                                                              random_state = 1)\n",
    "\n",
    "wine_model.fit(X_train, y_train)\n",
    "y_pred = wine_model.predict(X_test)\n",
    "\n",
    "print (\"Precision\", precision_score(y_test.values, y_pred, average='macro'), \n",
    "         \"Accuracy Score\", accuracy_score(y_test.values, y_pred),\n",
    "         \"Recall\", recall_score(y_test.values, y_pred, average='macro'))"
   ]
  },
  {
   "cell_type": "code",
   "execution_count": 222,
   "metadata": {},
   "outputs": [
    {
     "data": {
      "image/png": "[encoded data removed]",
      "text/plain": [
       "<Figure size 576x432 with 2 Axes>"
      ]
     },
     "metadata": {},
     "output_type": "display_data"
    }
   ],
   "source": [
    "plot_confusion_matrix(cm           = confusion_matrix(y_test, y_pred), \n",
    "                      normalize    = False,\n",
    "                      target_names = ['Score 3', 'Score 4', 'Score 5', \n",
    "                                      'Score 6', 'Score 7','Score 8','Score 9'],\n",
    "                      title        = \"Confusion Matrix\")"
   ]
  },
  {
   "cell_type": "markdown",
   "metadata": {},
   "source": []
  }
 ],
 "metadata": {
  "kernelspec": {
   "display_name": "Python 3",
   "language": "python",
   "name": "python3"
  },
  "language_info": {
   "codemirror_mode": {
    "name": "ipython",
    "version": 3
   },
   "file_extension": ".py",
   "mimetype": "text/x-python",
   "name": "python",
   "nbconvert_exporter": "python",
   "pygments_lexer": "ipython3",
   "version": "3.6.5"
  }
 },
 "nbformat": 4,
 "nbformat_minor": 2
}
